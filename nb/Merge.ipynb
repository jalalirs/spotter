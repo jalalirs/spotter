{
 "cells": [
  {
   "cell_type": "code",
   "execution_count": 4,
   "id": "2a36c585",
   "metadata": {},
   "outputs": [],
   "source": [
    "import pandas as pd\n",
    "import matplotlib.pyplot as plt\n",
    "import glob\n",
    "import json"
   ]
  },
  {
   "cell_type": "code",
   "execution_count": 3,
   "id": "8b15652b",
   "metadata": {},
   "outputs": [],
   "source": [
    "datafiles = glob.glob(\"../data/*.json\")"
   ]
  },
  {
   "cell_type": "code",
   "execution_count": 18,
   "id": "2174aa14",
   "metadata": {},
   "outputs": [],
   "source": [
    "SPOTTER = \"SPOT-1576\""
   ]
  },
  {
   "cell_type": "code",
   "execution_count": 31,
   "id": "7b21b143",
   "metadata": {},
   "outputs": [
    {
     "name": "stdout",
     "output_type": "stream",
     "text": [
      "../data/2022-04-06_2022-06-11.json\n",
      "../data/2022-06-10_2022-07-10.json\n"
     ]
    }
   ],
   "source": [
    "data = {}\n",
    "for fname in sorted(datafiles):\n",
    "    print(fname)\n",
    "    with open(fname) as f:\n",
    "        seg_data = json.load(f)\n",
    "        spot_data = seg_data[\"data\"][SPOTTER]\n",
    "        for k,v in spot_data.items():\n",
    "            if k not in data:\n",
    "                data[k] = []\n",
    "            # loop over days\n",
    "            if type(v) == float or type(v) == int:\n",
    "                data[k].append(v)\n",
    "            elif type(v) == list:\n",
    "                for d_data in v:\n",
    "                    data[k] += d_data"
   ]
  },
  {
   "cell_type": "code",
   "execution_count": 32,
   "id": "0a9f07b6",
   "metadata": {},
   "outputs": [],
   "source": [
    "dfs = {k:pd.DataFrame(v) for k,v in data.items()}"
   ]
  },
  {
   "cell_type": "code",
   "execution_count": 35,
   "id": "2f15ac3e",
   "metadata": {},
   "outputs": [],
   "source": [
    "for k,df in dfs.items():\n",
    "    df.to_csv(f\"../data/{SPOTTER}_{k}.csv\",index=False)"
   ]
  },
  {
   "cell_type": "code",
   "execution_count": null,
   "id": "de7e13ea",
   "metadata": {},
   "outputs": [],
   "source": []
  }
 ],
 "metadata": {
  "kernelspec": {
   "display_name": "Python 3 (ipykernel)",
   "language": "python",
   "name": "python3"
  },
  "language_info": {
   "codemirror_mode": {
    "name": "ipython",
    "version": 3
   },
   "file_extension": ".py",
   "mimetype": "text/x-python",
   "name": "python",
   "nbconvert_exporter": "python",
   "pygments_lexer": "ipython3",
   "version": "3.8.6"
  }
 },
 "nbformat": 4,
 "nbformat_minor": 5
}
